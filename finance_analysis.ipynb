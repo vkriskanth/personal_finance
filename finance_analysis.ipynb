{
 "cells": [
  {
   "cell_type": "code",
   "execution_count": 32,
   "id": "5823e9c2-fd79-49c0-b271-e3af3572e7c6",
   "metadata": {},
   "outputs": [],
   "source": [
    "import yfinance as yf"
   ]
  },
  {
   "cell_type": "code",
   "execution_count": 33,
   "id": "36791d2f-fd0c-4659-aa3f-d259c031c567",
   "metadata": {},
   "outputs": [],
   "source": [
    "start_date = datetime.datetime(2023,4,1)\n",
    "end_date = datetime.datetime(2023, 6, 30)"
   ]
  },
  {
   "cell_type": "code",
   "execution_count": 34,
   "id": "8245db6b-fc58-4a02-950b-6147c4eb72c9",
   "metadata": {},
   "outputs": [],
   "source": [
    "stock_tickers = ['EWBC',\n",
    "                'BUD',\n",
    "                'GOOGL',\n",
    "                'COF',\n",
    "                'OXY',\n",
    "                'DHI',\n",
    "                'NVR',\n",
    "                 'BRK-B',\n",
    "                 'LEN-B'\n",
    "                ]"
   ]
  },
  {
   "cell_type": "code",
   "execution_count": 47,
   "id": "b98f5f37-9cbc-42c6-a408-12ae067a1e1e",
   "metadata": {},
   "outputs": [],
   "source": [
    "stock_price_hist = {}"
   ]
  },
  {
   "cell_type": "code",
   "execution_count": 48,
   "id": "963dbae4-106a-4146-8fe2-c9770e4d74a2",
   "metadata": {},
   "outputs": [
    {
     "name": "stdout",
     "output_type": "stream",
     "text": [
      "The average price of EWBC is 50.19729434484731\n",
      "The average price of BUD is 60.279021906838246\n",
      "The average price of GOOGL is 114.93860651235111\n",
      "The average price of COF is 98.92962569226991\n",
      "The average price of OXY is 59.7777944372578\n",
      "The average price of DHI is 108.75956079567621\n",
      "The average price of NVR is 5807.2907474705435\n",
      "The average price of BRK-B is 325.94057452092403\n",
      "The average price of LEN-B is 97.94254553555609\n",
      "{'EWBC': 50.19729434484731, 'BUD': 60.279021906838246, 'GOOGL': 114.93860651235111, 'COF': 98.92962569226991, 'OXY': 59.7777944372578, 'DHI': 108.75956079567621, 'NVR': 5807.2907474705435, 'BRK-B': 325.94057452092403, 'LEN-B': 97.94254553555609}\n"
     ]
    }
   ],
   "source": [
    "for stock in stock_tickers:\n",
    "    ticker = yf.Ticker(stock)\n",
    "    stock_data = ticker.history(start=start_date, end = end_date)\n",
    "    stock_data['avg'] = (stock_data['High'] + stock_data['Low'])/2\n",
    "    avg_stock_price = stock_data['avg'].mean()\n",
    "    print(\"The average price of {} is {}\".format(stock, avg_stock_price))\n",
    "    stock_price_hist[stock] = avg_stock_price\n",
    "\n",
    "print(stock_price_hist)\n",
    "    "
   ]
  },
  {
   "cell_type": "code",
   "execution_count": 49,
   "id": "530add28-7195-4232-8c62-f1d9161be684",
   "metadata": {},
   "outputs": [],
   "source": [
    "stock_price_curr = {}"
   ]
  },
  {
   "cell_type": "code",
   "execution_count": 50,
   "id": "e2af1796-c67b-4a34-bf59-e3172bf32a23",
   "metadata": {},
   "outputs": [
    {
     "name": "stdout",
     "output_type": "stream",
     "text": [
      "The average price of EWBC is 54.579999923706055\n",
      "The average price of BUD is 57.07000160217285\n",
      "The average price of GOOGL is 137.5\n",
      "The average price of COF is 102.92000198364258\n",
      "The average price of OXY is 66.59000015258789\n",
      "The average price of DHI is 111.86999893188477\n",
      "The average price of NVR is 6096.89501953125\n",
      "The average price of BRK-B is 368.86000061035156\n",
      "The average price of LEN-B is 101.9749984741211\n"
     ]
    }
   ],
   "source": [
    "for stock in stock_tickers:\n",
    "    ticker = yf.Ticker(stock)\n",
    "    stock_current = ticker.history(period='1d')\n",
    "    stock_current['avg'] = (stock_current['High'] + stock_current['Low'])/2\n",
    "    avg_stock_price = stock_current['avg'].mean()\n",
    "    print(\"The average price of {} is {}\".format(stock, avg_stock_price))\n",
    "    stock_price_curr[stock] = avg_stock_price"
   ]
  },
  {
   "cell_type": "code",
   "execution_count": 52,
   "id": "a17f13dd-bd56-48d4-95fa-5248d3ae6f40",
   "metadata": {},
   "outputs": [
    {
     "name": "stdout",
     "output_type": "stream",
     "text": [
      "The stock EWBC is currently up 8.73095977793199\n",
      "The stock BUD is currently down -5.323610442161724\n",
      "The stock GOOGL is currently up 19.629082144148384\n",
      "The stock COF is currently up 4.033550378311465\n",
      "The stock OXY is currently up 11.39587999098915\n",
      "The stock DHI is currently up 2.859921567771001\n",
      "The stock NVR is currently up 4.986908433796745\n",
      "The stock BRK-B is currently up 13.16786845347856\n",
      "The stock LEN-B is currently up 4.117161665050966\n"
     ]
    }
   ],
   "source": [
    "for key in stock_price_hist:\n",
    "    if key in stock_price_curr:\n",
    "        if stock_price_curr[key] < stock_price_hist[key]:\n",
    "            percentage_down = ((stock_price_curr[key] - stock_price_hist[key])/stock_price_hist[key])*100\n",
    "            print(\"The stock {} is currently down {}\".format(key, percentage_down))\n",
    "        else:\n",
    "            percentage_up = ((stock_price_curr[key] - stock_price_hist[key])/stock_price_hist[key])*100\n",
    "            print(\"The stock {} is currently up {}\".format(key, percentage_up))"
   ]
  },
  {
   "cell_type": "code",
   "execution_count": null,
   "id": "0dffa554-080c-4f08-918a-5a72eaa08062",
   "metadata": {},
   "outputs": [],
   "source": []
  }
 ],
 "metadata": {
  "kernelspec": {
   "display_name": "Python 3 (ipykernel)",
   "language": "python",
   "name": "python3"
  },
  "language_info": {
   "codemirror_mode": {
    "name": "ipython",
    "version": 3
   },
   "file_extension": ".py",
   "mimetype": "text/x-python",
   "name": "python",
   "nbconvert_exporter": "python",
   "pygments_lexer": "ipython3",
   "version": "3.9.18"
  }
 },
 "nbformat": 4,
 "nbformat_minor": 5
}
