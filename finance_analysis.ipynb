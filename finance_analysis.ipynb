{
 "cells": [
  {
   "cell_type": "code",
   "execution_count": 1,
   "id": "41967e96-1714-4086-afc9-3c9f86067b90",
   "metadata": {},
   "outputs": [],
   "source": [
    "#This is a financial analysis based on stocks bought by super investors in the second quarter"
   ]
  },
  {
   "cell_type": "code",
   "execution_count": 35,
   "id": "5823e9c2-fd79-49c0-b271-e3af3572e7c6",
   "metadata": {},
   "outputs": [],
   "source": [
    "import yfinance as yf\n",
    "import datetime\n",
    "import pandas as pd"
   ]
  },
  {
   "cell_type": "code",
   "execution_count": 6,
   "id": "36791d2f-fd0c-4659-aa3f-d259c031c567",
   "metadata": {},
   "outputs": [],
   "source": [
    "start_date = datetime.datetime(2023,4,1)\n",
    "end_date = datetime.datetime(2023, 6, 30)"
   ]
  },
  {
   "cell_type": "code",
   "execution_count": 7,
   "id": "8245db6b-fc58-4a02-950b-6147c4eb72c9",
   "metadata": {},
   "outputs": [],
   "source": [
    "stock_tickers = ['EWBC',\n",
    "                'BUD',\n",
    "                'GOOGL',\n",
    "                'COF',\n",
    "                'OXY',\n",
    "                'DHI',\n",
    "                'NVR',\n",
    "                 'BRK-B',\n",
    "                 'LEN-B'\n",
    "                ]"
   ]
  },
  {
   "cell_type": "code",
   "execution_count": 8,
   "id": "b98f5f37-9cbc-42c6-a408-12ae067a1e1e",
   "metadata": {},
   "outputs": [],
   "source": [
    "stock_price_hist = {}"
   ]
  },
  {
   "cell_type": "code",
   "execution_count": 9,
   "id": "963dbae4-106a-4146-8fe2-c9770e4d74a2",
   "metadata": {},
   "outputs": [
    {
     "name": "stdout",
     "output_type": "stream",
     "text": [
      "The average price of EWBC is 50.19729434484731\n",
      "The average price of BUD is 60.279021906838246\n",
      "The average price of GOOGL is 114.93860651235111\n",
      "The average price of COF is 98.92962569226991\n",
      "The average price of OXY is 59.7777944372578\n",
      "The average price of DHI is 108.75956079567621\n",
      "The average price of NVR is 5807.2907474705435\n",
      "The average price of BRK-B is 325.94057452092403\n",
      "The average price of LEN-B is 97.94254591140734\n",
      "{'EWBC': 50.19729434484731, 'BUD': 60.279021906838246, 'GOOGL': 114.93860651235111, 'COF': 98.92962569226991, 'OXY': 59.7777944372578, 'DHI': 108.75956079567621, 'NVR': 5807.2907474705435, 'BRK-B': 325.94057452092403, 'LEN-B': 97.94254591140734}\n"
     ]
    }
   ],
   "source": [
    "for stock in stock_tickers:\n",
    "    ticker = yf.Ticker(stock)\n",
    "    stock_data = ticker.history(start=start_date, end = end_date)\n",
    "    stock_data['avg'] = (stock_data['High'] + stock_data['Low'])/2\n",
    "    avg_stock_price = stock_data['avg'].mean()\n",
    "    print(\"The average price of {} is {}\".format(stock, avg_stock_price))\n",
    "    stock_price_hist[stock] = avg_stock_price\n",
    "\n",
    "print(stock_price_hist)\n",
    "    "
   ]
  },
  {
   "cell_type": "code",
   "execution_count": 10,
   "id": "530add28-7195-4232-8c62-f1d9161be684",
   "metadata": {},
   "outputs": [],
   "source": [
    "stock_price_curr = {}"
   ]
  },
  {
   "cell_type": "code",
   "execution_count": 12,
   "id": "e2af1796-c67b-4a34-bf59-e3172bf32a23",
   "metadata": {},
   "outputs": [
    {
     "name": "stdout",
     "output_type": "stream",
     "text": [
      "The current average price of EWBC is 54.209999084472656\n",
      "The current average price of BUD is 57.60499954223633\n",
      "The current average price of GOOGL is 137.51499938964844\n",
      "The current average price of COF is 102.30500030517578\n",
      "The current average price of OXY is 66.29499816894531\n",
      "The current average price of DHI is 113.3499984741211\n",
      "The current average price of NVR is 6138.18505859375\n",
      "The current average price of BRK-B is 370.8999938964844\n",
      "The current average price of LEN-B is 104.45000076293945\n"
     ]
    }
   ],
   "source": [
    "for stock in stock_tickers:\n",
    "    ticker = yf.Ticker(stock)\n",
    "    stock_current = ticker.history(period='1d')\n",
    "    stock_current['avg'] = (stock_current['High'] + stock_current['Low'])/2\n",
    "    avg_stock_price = stock_current['avg'].mean()\n",
    "    print(\"The current average price of {} is {}\".format(stock, avg_stock_price))\n",
    "    stock_price_curr[stock] = avg_stock_price"
   ]
  },
  {
   "cell_type": "code",
   "execution_count": 52,
   "id": "a17f13dd-bd56-48d4-95fa-5248d3ae6f40",
   "metadata": {},
   "outputs": [
    {
     "name": "stdout",
     "output_type": "stream",
     "text": [
      "The stock EWBC is currently up 8.73095977793199\n",
      "The stock BUD is currently down -5.323610442161724\n",
      "The stock GOOGL is currently up 19.629082144148384\n",
      "The stock COF is currently up 4.033550378311465\n",
      "The stock OXY is currently up 11.39587999098915\n",
      "The stock DHI is currently up 2.859921567771001\n",
      "The stock NVR is currently up 4.986908433796745\n",
      "The stock BRK-B is currently up 13.16786845347856\n",
      "The stock LEN-B is currently up 4.117161665050966\n"
     ]
    }
   ],
   "source": [
    "for key in stock_price_hist:\n",
    "    if key in stock_price_curr:\n",
    "        if stock_price_curr[key] < stock_price_hist[key]:\n",
    "            percentage_down = ((stock_price_curr[key] - stock_price_hist[key])/stock_price_hist[key])*100\n",
    "            print(\"The stock {} is currently down {}\".format(key, percentage_down))\n",
    "        else:\n",
    "            percentage_up = ((stock_price_curr[key] - stock_price_hist[key])/stock_price_hist[key])*100\n",
    "            print(\"The stock {} is currently up {}\".format(key, percentage_up))"
   ]
  },
  {
   "cell_type": "code",
   "execution_count": 13,
   "id": "0dffa554-080c-4f08-918a-5a72eaa08062",
   "metadata": {},
   "outputs": [
    {
     "name": "stdout",
     "output_type": "stream",
     "text": [
      "2000-01-01 00:00:00\n",
      "2023-09-01 00:00:00\n"
     ]
    }
   ],
   "source": [
    "import pandas_datareader.data as web\n",
    "#Getting the consumer price index data \n",
    "\n",
    "start_date = datetime.datetime(2000,1,1)\n",
    "current_datetime = datetime.datetime.now()\n",
    "end_date = current_datetime.replace(day=1, hour=0, minute=0, second=0, microsecond=0)\n",
    "print(start_date)\n",
    "print(end_date)\n"
   ]
  },
  {
   "cell_type": "code",
   "execution_count": 14,
   "id": "af332b3f-ac87-40be-aa4b-04fa4d5ca139",
   "metadata": {},
   "outputs": [],
   "source": [
    "cpi_data = web.DataReader('CPIAUCSL','fred',start_date, end_date)"
   ]
  },
  {
   "cell_type": "code",
   "execution_count": 33,
   "id": "b09f5318-56d4-44b8-b531-45d505b766b0",
   "metadata": {},
   "outputs": [
    {
     "name": "stdout",
     "output_type": "stream",
     "text": [
      "            CPIAUCSL\n",
      "DATE                \n",
      "2000-01-01     169.3\n",
      "2000-02-01     170.0\n",
      "2000-03-01     171.0\n",
      "2000-04-01     170.9\n",
      "2000-05-01     171.2\n"
     ]
    },
    {
     "data": {
      "text/html": [
       "<div>\n",
       "<style scoped>\n",
       "    .dataframe tbody tr th:only-of-type {\n",
       "        vertical-align: middle;\n",
       "    }\n",
       "\n",
       "    .dataframe tbody tr th {\n",
       "        vertical-align: top;\n",
       "    }\n",
       "\n",
       "    .dataframe thead th {\n",
       "        text-align: right;\n",
       "    }\n",
       "</style>\n",
       "<table border=\"1\" class=\"dataframe\">\n",
       "  <thead>\n",
       "    <tr style=\"text-align: right;\">\n",
       "      <th></th>\n",
       "      <th>CPIAUCSL</th>\n",
       "    </tr>\n",
       "    <tr>\n",
       "      <th>Date</th>\n",
       "      <th></th>\n",
       "    </tr>\n",
       "  </thead>\n",
       "  <tbody>\n",
       "    <tr>\n",
       "      <th>2000-01-01</th>\n",
       "      <td>169.3</td>\n",
       "    </tr>\n",
       "    <tr>\n",
       "      <th>2000-02-01</th>\n",
       "      <td>170.0</td>\n",
       "    </tr>\n",
       "    <tr>\n",
       "      <th>2000-03-01</th>\n",
       "      <td>171.0</td>\n",
       "    </tr>\n",
       "    <tr>\n",
       "      <th>2000-04-01</th>\n",
       "      <td>170.9</td>\n",
       "    </tr>\n",
       "    <tr>\n",
       "      <th>2000-05-01</th>\n",
       "      <td>171.2</td>\n",
       "    </tr>\n",
       "  </tbody>\n",
       "</table>\n",
       "</div>"
      ],
      "text/plain": [
       "            CPIAUCSL\n",
       "Date                \n",
       "2000-01-01     169.3\n",
       "2000-02-01     170.0\n",
       "2000-03-01     171.0\n",
       "2000-04-01     170.9\n",
       "2000-05-01     171.2"
      ]
     },
     "execution_count": 33,
     "metadata": {},
     "output_type": "execute_result"
    }
   ],
   "source": [
    "cpi_data.rename_axis('Date',inplace=True)\n",
    "cpi_data.head()"
   ]
  },
  {
   "cell_type": "code",
   "execution_count": 24,
   "id": "05d6d210-71f3-46f5-af89-08f6acb4623a",
   "metadata": {},
   "outputs": [
    {
     "name": "stdout",
     "output_type": "stream",
     "text": [
      "[*********************100%%**********************]  1 of 1 completed\n"
     ]
    },
    {
     "data": {
      "text/html": [
       "<div>\n",
       "<style scoped>\n",
       "    .dataframe tbody tr th:only-of-type {\n",
       "        vertical-align: middle;\n",
       "    }\n",
       "\n",
       "    .dataframe tbody tr th {\n",
       "        vertical-align: top;\n",
       "    }\n",
       "\n",
       "    .dataframe thead th {\n",
       "        text-align: right;\n",
       "    }\n",
       "</style>\n",
       "<table border=\"1\" class=\"dataframe\">\n",
       "  <thead>\n",
       "    <tr style=\"text-align: right;\">\n",
       "      <th></th>\n",
       "      <th>Adj Close</th>\n",
       "    </tr>\n",
       "    <tr>\n",
       "      <th>Date</th>\n",
       "      <th></th>\n",
       "    </tr>\n",
       "  </thead>\n",
       "  <tbody>\n",
       "    <tr>\n",
       "      <th>2000-01-03</th>\n",
       "      <td>1455.219971</td>\n",
       "    </tr>\n",
       "    <tr>\n",
       "      <th>2000-01-04</th>\n",
       "      <td>1399.420044</td>\n",
       "    </tr>\n",
       "    <tr>\n",
       "      <th>2000-01-05</th>\n",
       "      <td>1402.109985</td>\n",
       "    </tr>\n",
       "    <tr>\n",
       "      <th>2000-01-06</th>\n",
       "      <td>1403.449951</td>\n",
       "    </tr>\n",
       "    <tr>\n",
       "      <th>2000-01-07</th>\n",
       "      <td>1441.469971</td>\n",
       "    </tr>\n",
       "  </tbody>\n",
       "</table>\n",
       "</div>"
      ],
      "text/plain": [
       "              Adj Close\n",
       "Date                   \n",
       "2000-01-03  1455.219971\n",
       "2000-01-04  1399.420044\n",
       "2000-01-05  1402.109985\n",
       "2000-01-06  1403.449951\n",
       "2000-01-07  1441.469971"
      ]
     },
     "execution_count": 24,
     "metadata": {},
     "output_type": "execute_result"
    }
   ],
   "source": [
    "#getting S&P 500 index data \n",
    "\n",
    "symbol = \"^GSPC\"\n",
    "sp500_data = yf.download(symbol,start= start_date, end= end_date)\n",
    "sp500_data.drop(columns=['Open','High','Low','Close','Volume'],inplace= True)\n",
    "sp500_data.head()"
   ]
  },
  {
   "cell_type": "code",
   "execution_count": 29,
   "id": "775d94eb-f980-4f71-97e5-d20ad7a86d9f",
   "metadata": {},
   "outputs": [
    {
     "data": {
      "text/html": [
       "<div>\n",
       "<style scoped>\n",
       "    .dataframe tbody tr th:only-of-type {\n",
       "        vertical-align: middle;\n",
       "    }\n",
       "\n",
       "    .dataframe tbody tr th {\n",
       "        vertical-align: top;\n",
       "    }\n",
       "\n",
       "    .dataframe thead th {\n",
       "        text-align: right;\n",
       "    }\n",
       "</style>\n",
       "<table border=\"1\" class=\"dataframe\">\n",
       "  <thead>\n",
       "    <tr style=\"text-align: right;\">\n",
       "      <th></th>\n",
       "      <th>Adj Close</th>\n",
       "    </tr>\n",
       "    <tr>\n",
       "      <th>Date</th>\n",
       "      <th></th>\n",
       "    </tr>\n",
       "  </thead>\n",
       "  <tbody>\n",
       "    <tr>\n",
       "      <th>2000-01-01</th>\n",
       "      <td>1425.585504</td>\n",
       "    </tr>\n",
       "    <tr>\n",
       "      <th>2000-02-01</th>\n",
       "      <td>1388.874500</td>\n",
       "    </tr>\n",
       "    <tr>\n",
       "      <th>2000-03-01</th>\n",
       "      <td>1442.212599</td>\n",
       "    </tr>\n",
       "    <tr>\n",
       "      <th>2000-04-01</th>\n",
       "      <td>1461.355257</td>\n",
       "    </tr>\n",
       "    <tr>\n",
       "      <th>2000-05-01</th>\n",
       "      <td>1418.479548</td>\n",
       "    </tr>\n",
       "  </tbody>\n",
       "</table>\n",
       "</div>"
      ],
      "text/plain": [
       "              Adj Close\n",
       "Date                   \n",
       "2000-01-01  1425.585504\n",
       "2000-02-01  1388.874500\n",
       "2000-03-01  1442.212599\n",
       "2000-04-01  1461.355257\n",
       "2000-05-01  1418.479548"
      ]
     },
     "execution_count": 29,
     "metadata": {},
     "output_type": "execute_result"
    }
   ],
   "source": [
    "sp500_monthly = sp500_data.resample('M').mean()\n",
    "sp500_monthly.index = sp500_monthly.index.to_period('M').to_timestamp()\n",
    "sp500_monthly.head()"
   ]
  },
  {
   "cell_type": "code",
   "execution_count": 37,
   "id": "10257bd5-3492-45cc-af5f-f5f6f3901a94",
   "metadata": {},
   "outputs": [],
   "source": [
    "#!pip install seaborn\n",
    "#!pip install matplotlib\n",
    "import seaborn as sns\n",
    "import matplotlib.pyplot as plt"
   ]
  },
  {
   "cell_type": "code",
   "execution_count": 36,
   "id": "64d10e2d-47c8-4faa-aca8-9addc33445db",
   "metadata": {},
   "outputs": [],
   "source": [
    "merged_df = pd.merge(cpi_data, sp500_monthly, on = 'Date')"
   ]
  },
  {
   "cell_type": "code",
   "execution_count": 38,
   "id": "344550b4-e3be-46e5-880b-c7f8a3d69a6f",
   "metadata": {},
   "outputs": [
    {
     "name": "stderr",
     "output_type": "stream",
     "text": [
      "/Users/kanthkr/opt/anaconda3/envs/finance/lib/python3.9/site-packages/seaborn/_oldcore.py:1498: FutureWarning: is_categorical_dtype is deprecated and will be removed in a future version. Use isinstance(dtype, CategoricalDtype) instead\n",
      "  if pd.api.types.is_categorical_dtype(vector):\n",
      "/Users/kanthkr/opt/anaconda3/envs/finance/lib/python3.9/site-packages/seaborn/_oldcore.py:1498: FutureWarning: is_categorical_dtype is deprecated and will be removed in a future version. Use isinstance(dtype, CategoricalDtype) instead\n",
      "  if pd.api.types.is_categorical_dtype(vector):\n",
      "/Users/kanthkr/opt/anaconda3/envs/finance/lib/python3.9/site-packages/seaborn/_oldcore.py:1119: FutureWarning: use_inf_as_na option is deprecated and will be removed in a future version. Convert inf values to NaN before operating instead.\n",
      "  with pd.option_context('mode.use_inf_as_na', True):\n",
      "/Users/kanthkr/opt/anaconda3/envs/finance/lib/python3.9/site-packages/seaborn/_oldcore.py:1119: FutureWarning: use_inf_as_na option is deprecated and will be removed in a future version. Convert inf values to NaN before operating instead.\n",
      "  with pd.option_context('mode.use_inf_as_na', True):\n",
      "/Users/kanthkr/opt/anaconda3/envs/finance/lib/python3.9/site-packages/seaborn/_oldcore.py:1498: FutureWarning: is_categorical_dtype is deprecated and will be removed in a future version. Use isinstance(dtype, CategoricalDtype) instead\n",
      "  if pd.api.types.is_categorical_dtype(vector):\n",
      "/Users/kanthkr/opt/anaconda3/envs/finance/lib/python3.9/site-packages/seaborn/_oldcore.py:1498: FutureWarning: is_categorical_dtype is deprecated and will be removed in a future version. Use isinstance(dtype, CategoricalDtype) instead\n",
      "  if pd.api.types.is_categorical_dtype(vector):\n",
      "/Users/kanthkr/opt/anaconda3/envs/finance/lib/python3.9/site-packages/seaborn/_oldcore.py:1119: FutureWarning: use_inf_as_na option is deprecated and will be removed in a future version. Convert inf values to NaN before operating instead.\n",
      "  with pd.option_context('mode.use_inf_as_na', True):\n",
      "/Users/kanthkr/opt/anaconda3/envs/finance/lib/python3.9/site-packages/seaborn/_oldcore.py:1119: FutureWarning: use_inf_as_na option is deprecated and will be removed in a future version. Convert inf values to NaN before operating instead.\n",
      "  with pd.option_context('mode.use_inf_as_na', True):\n"
     ]
    },
    {
     "data": {
      "image/png": "[encoded data removed]",
      "text/plain": [
       "<Figure size 1000x500 with 1 Axes>"
      ]
     },
     "metadata": {},
     "output_type": "display_data"
    }
   ],
   "source": [
    "sns.set(style = 'whitegrid')\n",
    "plt.figure(figsize = (10,5))\n",
    "sns.lineplot(data=merged_df, x='Date', y = 'CPIAUCSL',label='CPI')\n",
    "sns.lineplot(data=merged_df, x='Date', y = 'Adj Close',label='SP500')\n",
    "plt.xlabel('Date')\n",
    "plt.ylabel('Value')\n",
    "plt.title('Comparison of Consumer Price Index and S&P500')\n",
    "plt.legend()\n",
    "plt.show()"
   ]
  },
  {
   "cell_type": "code",
   "execution_count": null,
   "id": "e7715845-4c97-4b28-907e-554b15ef9b62",
   "metadata": {},
   "outputs": [],
   "source": []
  }
 ],
 "metadata": {
  "kernelspec": {
   "display_name": "Python 3 (ipykernel)",
   "language": "python",
   "name": "python3"
  },
  "language_info": {
   "codemirror_mode": {
    "name": "ipython",
    "version": 3
   },
   "file_extension": ".py",
   "mimetype": "text/x-python",
   "name": "python",
   "nbconvert_exporter": "python",
   "pygments_lexer": "ipython3",
   "version": "3.9.18"
  }
 },
 "nbformat": 4,
 "nbformat_minor": 5
}
